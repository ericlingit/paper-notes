{
 "cells": [
  {
   "cell_type": "markdown",
   "metadata": {},
   "source": [
    "[The paper](https://arxiv.org/abs/1409.0473)\n",
    "\n",
    "divide the input image into grids\n",
    "\n",
    "use a weight to decide which block to look at"
   ]
  },
  {
   "cell_type": "markdown",
   "metadata": {},
   "source": [
    "you can do the same to a rnn:\n",
    "\n",
    "retain all the hidden states, and stack them into a matrix\n",
    "\n",
    "apply a weight to select which hidden state to look at when the decoder is generating a translation"
   ]
  },
  {
   "cell_type": "code",
   "execution_count": null,
   "metadata": {},
   "outputs": [],
   "source": []
  },
  {
   "cell_type": "markdown",
   "metadata": {},
   "source": [
    "the input sentence is run twice: once forwrad, once backward into the rnn. the hidden states of each run are collected and lined up according to the order of the words. \n",
    "\n",
    "now for each word in the sentence, you have 2 hidden states: one that remembers the words before it, and the other remembers the words that come after it."
   ]
  },
  {
   "cell_type": "markdown",
   "metadata": {},
   "source": [
    "the forward and backward hidden states for each input word are stacked together to form its __annotation__."
   ]
  },
  {
   "cell_type": "markdown",
   "metadata": {},
   "source": []
  }
 ],
 "metadata": {
  "kernelspec": {
   "display_name": "Python 3",
   "language": "python",
   "name": "python3"
  },
  "language_info": {
   "codemirror_mode": {
    "name": "ipython",
    "version": 3
   },
   "file_extension": ".py",
   "mimetype": "text/x-python",
   "name": "python",
   "nbconvert_exporter": "python",
   "pygments_lexer": "ipython3",
   "version": "3.7.3"
  }
 },
 "nbformat": 4,
 "nbformat_minor": 2
}
