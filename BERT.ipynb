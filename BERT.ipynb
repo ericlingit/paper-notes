{
 "cells": [
  {
   "cell_type": "markdown",
   "metadata": {},
   "source": [
    "Trying to understand BERT model by reading its paper: [BERT: Pre-training of Deep Bidirectional Transformers forLanguage Understanding](https://arxiv.org/pdf/1810.04805.pdf)."
   ]
  },
  {
   "cell_type": "markdown",
   "metadata": {},
   "source": [
    "## Abstract"
   ]
  },
  {
   "cell_type": "markdown",
   "metadata": {},
   "source": [
    "![img](./img/bert-abstract-lang-rep.png)"
   ]
  },
  {
   "cell_type": "markdown",
   "metadata": {},
   "source": [
    "What is a __language representation model__?\n",
    "\n",
    "The point of a language is to encode information for transfer (mainly to another person's brain for decoding and processing). For a computer to understand language, it needs to be encoded into a form that can be understood by computers. That form is numbers.\n",
    "\n",
    "A __language representation model__ is a function that can convert words of a language into numbers for computation."
   ]
  },
  {
   "cell_type": "markdown",
   "metadata": {},
   "source": [
    "![img](./img/bert-abstract-bi-tfmr.png)"
   ]
  },
  {
   "cell_type": "markdown",
   "metadata": {},
   "source": [
    "What does __bidirectional__ mean?\n",
    "\n",
    "__Bidirectional__ is explained in the second sentence.\n",
    "\n",
    "What is a __transformer__?\n",
    "\n",
    "See paper [Attention is All You Need](https://arxiv.org/pdf/1706.03762.pdf) and my [accompanying notes](./Transformers.ipynb)"
   ]
  },
  {
   "cell_type": "code",
   "execution_count": null,
   "metadata": {},
   "outputs": [],
   "source": []
  },
  {
   "cell_type": "markdown",
   "execution_count": null,
   "metadata": {},
   "outputs": [],
   "source": [
    "https://jalammar.github.io/illustrated-bert/\n",
    "\n",
    "> BERT is basically a trained Transformer Encoder stack"
   ]
  }
 ],
 "metadata": {
  "kernelspec": {
   "display_name": "Python 3",
   "language": "python",
   "name": "python3"
  },
  "language_info": {
   "codemirror_mode": {
    "name": "ipython",
    "version": 3
   },
   "file_extension": ".py",
   "mimetype": "text/x-python",
   "name": "python",
   "nbconvert_exporter": "python",
   "pygments_lexer": "ipython3",
   "version": "3.7.3"
  }
 },
 "nbformat": 4,
 "nbformat_minor": 2
}